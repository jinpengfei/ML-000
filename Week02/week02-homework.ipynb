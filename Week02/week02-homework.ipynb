{
 "cells": [
  {
   "cell_type": "code",
   "execution_count": 3,
   "metadata": {},
   "outputs": [
    {
     "name": "stdout",
     "output_type": "stream",
     "text": [
      "0.0\n"
     ]
    }
   ],
   "source": [
    "# coding = 'utf-8'\n",
    "import numpy as np\n",
    "import pandas as pd\n",
    "\n",
    "\n",
    "def target_mean_v1(data, y_name, x_name):\n",
    "    result = np.zeros(data.shape[0])\n",
    "    for i in range(data.shape[0]):\n",
    "        groupby_result = data[data.index != i].groupby([x_name], as_index=False).agg(['mean', 'count'])\n",
    "        result[i] = groupby_result.loc[groupby_result.index == data.loc[i, x_name], (y_name, 'mean')]\n",
    "    return result\n",
    "\n",
    "\n",
    "def target_mean_v2(data, y_name, x_name):\n",
    "    result = np.zeros(data.shape[0])\n",
    "    value_dict = dict()\n",
    "    count_dict = dict()\n",
    "    for i in range(data.shape[0]):\n",
    "        if data.loc[i, x_name] not in value_dict.keys():\n",
    "            value_dict[data.loc[i, x_name]] = data.loc[i, y_name]\n",
    "            count_dict[data.loc[i, x_name]] = 1\n",
    "        else:\n",
    "            value_dict[data.loc[i, x_name]] += data.loc[i, y_name]\n",
    "            count_dict[data.loc[i, x_name]] += 1\n",
    "    for i in range(data.shape[0]):\n",
    "        result[i] = (value_dict[data.loc[i, x_name]] - data.loc[i, y_name]) / (count_dict[data.loc[i, x_name]] - 1)\n",
    "    return result\n",
    "\n",
    "\n",
    "def main():\n",
    "    y = np.random.randint(2, size=(5000, 1))\n",
    "    x = np.random.randint(10, size=(5000, 1))\n",
    "    data = pd.DataFrame(np.concatenate([y, x], axis=1), columns=['y', 'x'])\n",
    "    result_1 = target_mean_v1(data, 'y', 'x')\n",
    "    result_2 = target_mean_v2(data, 'y', 'x')\n",
    "\n",
    "    diff = np.linalg.norm(result_1 - result_2)\n",
    "    print(diff)\n",
    "\n",
    "\n",
    "if __name__ == '__main__':\n",
    "    main()"
   ]
  },
  {
   "cell_type": "code",
   "execution_count": 5,
   "metadata": {},
   "outputs": [],
   "source": [
    "%load_ext cython\n"
   ]
  },
  {
   "cell_type": "code",
   "execution_count": 6,
   "metadata": {},
   "outputs": [],
   "source": [
    "%%cython\n",
    "\n",
    "import numpy as np\n",
    "cimport numpy as cnp\n",
    "cimport cython\n",
    "from cython.parallel import prange\n",
    "\n",
    "# 最好每个都加上类型\n",
    "# 报错: Indexing Python object not allowed without gil\n",
    "\n",
    "# 不添加装饰器会出现警告 Use boundscheck(False) for faster access\n",
    "@cython.boundscheck(False)\n",
    "@cython.wraparound(False)\n",
    "cpdef cnp.ndarray[double] target_mean_v7(cnp.ndarray[long,ndim=2] data):\n",
    "    # get row numbers\n",
    "    cdef int n = data.shape[0]\n",
    "    # result to return \n",
    "    cdef cnp.ndarray[double] result = np.zeros(n,dtype=np.double)\n",
    "    # get y and x \n",
    "    cdef cnp.ndarray[long] y = data[:,0]\n",
    "    cdef cnp.ndarray[long] x = data[:,1]\n",
    "    # define map\n",
    "    cdef cnp.ndarray[long] value_map = np.zeros(n).astype(np.int_)\n",
    "    cdef cnp.ndarray[long] count_map = np.zeros(n).astype(np.int_)\n",
    "    \n",
    "    cdef int i\n",
    "    for i in prange(n, nogil=True):\n",
    "        value_map[x[i]] += y[i]\n",
    "        count_map[x[i]] += 1\n",
    "    for i in prange(n, nogil=True):\n",
    "        result[i] = (value_map[x[i]] - y[i]) / (count_map[x[i]] - 1)\n",
    "    return result"
   ]
  },
  {
   "cell_type": "code",
   "execution_count": 11,
   "metadata": {},
   "outputs": [],
   "source": [
    "y = np.random.randint(2, size=(5000, 1))\n",
    "x = np.random.randint(10, size=(5000, 1))\n",
    "data = pd.DataFrame(np.concatenate([y, x], axis=1), columns=['y', 'x'])"
   ]
  },
  {
   "cell_type": "code",
   "execution_count": 12,
   "metadata": {},
   "outputs": [],
   "source": [
    "data2 = data.values.astype(np.int_)"
   ]
  },
  {
   "cell_type": "code",
   "execution_count": 13,
   "metadata": {},
   "outputs": [
    {
     "name": "stdout",
     "output_type": "stream",
     "text": [
      "47.8 µs ± 753 ns per loop (mean ± std. dev. of 7 runs, 10000 loops each)\n"
     ]
    }
   ],
   "source": [
    "%%timeit\n",
    "target_mean_v7(data2)"
   ]
  },
  {
   "cell_type": "code",
   "execution_count": null,
   "metadata": {},
   "outputs": [],
   "source": []
  }
 ],
 "metadata": {
  "kernelspec": {
   "display_name": "Python 3",
   "language": "python",
   "name": "python3"
  },
  "language_info": {
   "codemirror_mode": {
    "name": "ipython",
    "version": 3
   },
   "file_extension": ".py",
   "mimetype": "text/x-python",
   "name": "python",
   "nbconvert_exporter": "python",
   "pygments_lexer": "ipython3",
   "version": "3.8.5"
  }
 },
 "nbformat": 4,
 "nbformat_minor": 4
}
